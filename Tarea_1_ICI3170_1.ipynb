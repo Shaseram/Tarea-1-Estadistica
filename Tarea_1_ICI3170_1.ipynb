{
  "nbformat": 4,
  "nbformat_minor": 0,
  "metadata": {
    "colab": {
      "provenance": []
    },
    "kernelspec": {
      "name": "ir",
      "display_name": "R"
    },
    "language_info": {
      "name": "R"
    }
  },
  "cells": [
    {
      "cell_type": "markdown",
      "source": [
        "Incorporar el desarrollo del Item junto con los comentarios solicitados en celdas independientes. Siga el ejemplo:\n",
        "*Codigo; Salida de codigo; comentarios*"
      ],
      "metadata": {
        "id": "KCOMJ0s1kVnG"
      }
    },
    {
      "cell_type": "markdown",
      "source": [
        "\n",
        "# Tarea 1\n",
        "\n",
        "## Integrantes\n",
        "\n",
        "- Vicente Arratia\n",
        "- Javier Montoya\n",
        "- Nikolai Navea\n",
        "\n",
        "\n"
      ],
      "metadata": {
        "id": "StMM0D1OxUQ8"
      }
    },
    {
      "cell_type": "code",
      "source": [
        "#cargar datos.\n",
        "#install.packages(\"readxl\")\n",
        "library(readxl)\n",
        "data=read_xlsx(\"/content/BASE_FINAL_SEGPRES_ERTM_DA.xlsx\")\n",
        "data=as.data.frame(data)\n",
        "\n",
        "\n"
      ],
      "metadata": {
        "id": "hFeDfOVLZtZN"
      },
      "execution_count": 3,
      "outputs": []
    },
    {
      "cell_type": "code",
      "source": [
        "# Elegimos los index para crear la nueva columna con los que cumplan con poder pagar en linea (1)\n",
        "inicio <- which(names(data) == \"P44.2.1\")\n",
        "fin <- which(names(data) == \"P44.2.24\")\n",
        "\n",
        "# Creamos la nueva columna\n",
        "data$suma_pago_en_linea <- rowSums(data[, inicio:fin] == 1)\n",
        "\n",
        "# Seleccionamos las columnas a trabajar indicadas\n",
        "data_final <- data[, c(\"TIP_SUBDERE\", \"TOTAL_FUNCIONARIOS_SUMA\", \"P6.1\", \"P6.2\", \"P6.3\", \"P7.1\", \"P7.2\", \"P7.3\",\"P7.4\", \"P7.5\",\"P22.1\",\"suma_pago_en_linea\")]\n",
        "\n",
        "head(data_final,5)"
      ],
      "metadata": {
        "colab": {
          "base_uri": "https://localhost:8080/",
          "height": 255
        },
        "id": "k03yvAcNufPV",
        "outputId": "75c634df-abc4-4c35-a610-efa3b3833acd"
      },
      "execution_count": 4,
      "outputs": [
        {
          "output_type": "display_data",
          "data": {
            "text/html": [
              "<table class=\"dataframe\">\n",
              "<caption>A data.frame: 5 × 12</caption>\n",
              "<thead>\n",
              "\t<tr><th></th><th scope=col>TIP_SUBDERE</th><th scope=col>TOTAL_FUNCIONARIOS_SUMA</th><th scope=col>P6.1</th><th scope=col>P6.2</th><th scope=col>P6.3</th><th scope=col>P7.1</th><th scope=col>P7.2</th><th scope=col>P7.3</th><th scope=col>P7.4</th><th scope=col>P7.5</th><th scope=col>P22.1</th><th scope=col>suma_pago_en_linea</th></tr>\n",
              "\t<tr><th></th><th scope=col>&lt;dbl&gt;</th><th scope=col>&lt;dbl&gt;</th><th scope=col>&lt;dbl&gt;</th><th scope=col>&lt;dbl&gt;</th><th scope=col>&lt;dbl&gt;</th><th scope=col>&lt;dbl&gt;</th><th scope=col>&lt;dbl&gt;</th><th scope=col>&lt;dbl&gt;</th><th scope=col>&lt;dbl&gt;</th><th scope=col>&lt;dbl&gt;</th><th scope=col>&lt;dbl&gt;</th><th scope=col>&lt;dbl&gt;</th></tr>\n",
              "</thead>\n",
              "<tbody>\n",
              "\t<tr><th scope=row>1</th><td>5</td><td>209</td><td>33</td><td>41</td><td>  8</td><td>28</td><td>52</td><td>57</td><td>26</td><td> 8</td><td>85</td><td>NA</td></tr>\n",
              "\t<tr><th scope=row>2</th><td>5</td><td> 95</td><td>15</td><td> 3</td><td> 38</td><td>21</td><td>19</td><td>NA</td><td>NA</td><td>NA</td><td>46</td><td>NA</td></tr>\n",
              "\t<tr><th scope=row>3</th><td>6</td><td> NA</td><td>NA</td><td>NA</td><td> NA</td><td>NA</td><td>NA</td><td>NA</td><td>NA</td><td>NA</td><td>NA</td><td> 0</td></tr>\n",
              "\t<tr><th scope=row>4</th><td>6</td><td> NA</td><td>NA</td><td>NA</td><td> NA</td><td>NA</td><td>NA</td><td>NA</td><td>NA</td><td>NA</td><td>NA</td><td>NA</td></tr>\n",
              "\t<tr><th scope=row>5</th><td>3</td><td>500</td><td>52</td><td>22</td><td>213</td><td>NA</td><td>NA</td><td>NA</td><td>NA</td><td>NA</td><td>NA</td><td>NA</td></tr>\n",
              "</tbody>\n",
              "</table>\n"
            ],
            "text/markdown": "\nA data.frame: 5 × 12\n\n| <!--/--> | TIP_SUBDERE &lt;dbl&gt; | TOTAL_FUNCIONARIOS_SUMA &lt;dbl&gt; | P6.1 &lt;dbl&gt; | P6.2 &lt;dbl&gt; | P6.3 &lt;dbl&gt; | P7.1 &lt;dbl&gt; | P7.2 &lt;dbl&gt; | P7.3 &lt;dbl&gt; | P7.4 &lt;dbl&gt; | P7.5 &lt;dbl&gt; | P22.1 &lt;dbl&gt; | suma_pago_en_linea &lt;dbl&gt; |\n|---|---|---|---|---|---|---|---|---|---|---|---|---|\n| 1 | 5 | 209 | 33 | 41 |   8 | 28 | 52 | 57 | 26 |  8 | 85 | NA |\n| 2 | 5 |  95 | 15 |  3 |  38 | 21 | 19 | NA | NA | NA | 46 | NA |\n| 3 | 6 |  NA | NA | NA |  NA | NA | NA | NA | NA | NA | NA |  0 |\n| 4 | 6 |  NA | NA | NA |  NA | NA | NA | NA | NA | NA | NA | NA |\n| 5 | 3 | 500 | 52 | 22 | 213 | NA | NA | NA | NA | NA | NA | NA |\n\n",
            "text/latex": "A data.frame: 5 × 12\n\\begin{tabular}{r|llllllllllll}\n  & TIP\\_SUBDERE & TOTAL\\_FUNCIONARIOS\\_SUMA & P6.1 & P6.2 & P6.3 & P7.1 & P7.2 & P7.3 & P7.4 & P7.5 & P22.1 & suma\\_pago\\_en\\_linea\\\\\n  & <dbl> & <dbl> & <dbl> & <dbl> & <dbl> & <dbl> & <dbl> & <dbl> & <dbl> & <dbl> & <dbl> & <dbl>\\\\\n\\hline\n\t1 & 5 & 209 & 33 & 41 &   8 & 28 & 52 & 57 & 26 &  8 & 85 & NA\\\\\n\t2 & 5 &  95 & 15 &  3 &  38 & 21 & 19 & NA & NA & NA & 46 & NA\\\\\n\t3 & 6 &  NA & NA & NA &  NA & NA & NA & NA & NA & NA & NA &  0\\\\\n\t4 & 6 &  NA & NA & NA &  NA & NA & NA & NA & NA & NA & NA & NA\\\\\n\t5 & 3 & 500 & 52 & 22 & 213 & NA & NA & NA & NA & NA & NA & NA\\\\\n\\end{tabular}\n",
            "text/plain": [
              "  TIP_SUBDERE TOTAL_FUNCIONARIOS_SUMA P6.1 P6.2 P6.3 P7.1 P7.2 P7.3 P7.4 P7.5\n",
              "1 5           209                     33   41     8  28   52   57   26    8  \n",
              "2 5            95                     15    3    38  21   19   NA   NA   NA  \n",
              "3 6            NA                     NA   NA    NA  NA   NA   NA   NA   NA  \n",
              "4 6            NA                     NA   NA    NA  NA   NA   NA   NA   NA  \n",
              "5 3           500                     52   22   213  NA   NA   NA   NA   NA  \n",
              "  P22.1 suma_pago_en_linea\n",
              "1 85    NA                \n",
              "2 46    NA                \n",
              "3 NA     0                \n",
              "4 NA    NA                \n",
              "5 NA    NA                "
            ]
          },
          "metadata": {}
        }
      ]
    },
    {
      "cell_type": "markdown",
      "source": [
        "##PREGUNTA 1\n",
        "\n",
        "Identificar si existen diferencias apreciables de cantidad de funcionarios de planta y funcionarios\n",
        "a contrata + honorarios, considerando los siguientes grupos de municipios:"
      ],
      "metadata": {
        "id": "iII5-x9WbXfr"
      }
    },
    {
      "cell_type": "markdown",
      "source": [
        "## Desarrollo Item 1.a.\n",
        "Comunas grandes versus urbanas\n"
      ],
      "metadata": {
        "id": "Q0h5E1jxxzW9"
      }
    },
    {
      "cell_type": "code",
      "execution_count": 5,
      "metadata": {
        "id": "nW0h5L8mw_yg"
      },
      "outputs": [],
      "source": [
        "#            TIPOLOGÍA SUBDERE\n",
        "\n",
        "#1,00 GRANDES COMUNAS METROPOLITANAS, ALTO DESARROLLO\n",
        "#2,00 GRANDES COMUNAS METROPOLITANAS, DESARROLLO MEDIO\n",
        "#3,00 COMUNAS URBANAS MAYORES, DESARROLLO MEDIO\n",
        "#4,00 COMUNAS URBANAS MEDIANAS, DESARROLLO MEDIO\n",
        "#5,00 COMUNAS SEMIURBANAS Y RURALES, DESARROLLO MEDIO\n",
        "#6,00 COMUNAS SEMIURBANAS Y RURALES, BAJO DESARROLLO\n",
        "\n",
        "# 1-2 GRANDES\n",
        "# 3-4 URBANAS\n",
        "# 5-6 SEMIURBANA RURAL"
      ]
    },
    {
      "cell_type": "code",
      "source": [
        "data_final$funcionarios_contrata_honorario <- data_final$P6.2 + data_final$P6.3\n",
        "head(data_final,5)"
      ],
      "metadata": {
        "colab": {
          "base_uri": "https://localhost:8080/",
          "height": 255
        },
        "id": "iQi2HBW1TJO5",
        "outputId": "103bb06c-8e37-4abe-8357-dd1c145b540f"
      },
      "execution_count": 8,
      "outputs": [
        {
          "output_type": "display_data",
          "data": {
            "text/html": [
              "<table class=\"dataframe\">\n",
              "<caption>A data.frame: 5 × 13</caption>\n",
              "<thead>\n",
              "\t<tr><th></th><th scope=col>TIP_SUBDERE</th><th scope=col>TOTAL_FUNCIONARIOS_SUMA</th><th scope=col>P6.1</th><th scope=col>P6.2</th><th scope=col>P6.3</th><th scope=col>P7.1</th><th scope=col>P7.2</th><th scope=col>P7.3</th><th scope=col>P7.4</th><th scope=col>P7.5</th><th scope=col>P22.1</th><th scope=col>suma_pago_en_linea</th><th scope=col>funcionarios_contrata_honorario</th></tr>\n",
              "\t<tr><th></th><th scope=col>&lt;dbl&gt;</th><th scope=col>&lt;dbl&gt;</th><th scope=col>&lt;dbl&gt;</th><th scope=col>&lt;dbl&gt;</th><th scope=col>&lt;dbl&gt;</th><th scope=col>&lt;dbl&gt;</th><th scope=col>&lt;dbl&gt;</th><th scope=col>&lt;dbl&gt;</th><th scope=col>&lt;dbl&gt;</th><th scope=col>&lt;dbl&gt;</th><th scope=col>&lt;dbl&gt;</th><th scope=col>&lt;dbl&gt;</th><th scope=col>&lt;dbl&gt;</th></tr>\n",
              "</thead>\n",
              "<tbody>\n",
              "\t<tr><th scope=row>1</th><td>5</td><td>209</td><td>33</td><td>41</td><td>  8</td><td>28</td><td>52</td><td>57</td><td>26</td><td> 8</td><td>85</td><td>NA</td><td> 49</td></tr>\n",
              "\t<tr><th scope=row>2</th><td>5</td><td> 95</td><td>15</td><td> 3</td><td> 38</td><td>21</td><td>19</td><td>NA</td><td>NA</td><td>NA</td><td>46</td><td>NA</td><td> 41</td></tr>\n",
              "\t<tr><th scope=row>3</th><td>6</td><td> NA</td><td>NA</td><td>NA</td><td> NA</td><td>NA</td><td>NA</td><td>NA</td><td>NA</td><td>NA</td><td>NA</td><td> 0</td><td> NA</td></tr>\n",
              "\t<tr><th scope=row>4</th><td>6</td><td> NA</td><td>NA</td><td>NA</td><td> NA</td><td>NA</td><td>NA</td><td>NA</td><td>NA</td><td>NA</td><td>NA</td><td>NA</td><td> NA</td></tr>\n",
              "\t<tr><th scope=row>5</th><td>3</td><td>500</td><td>52</td><td>22</td><td>213</td><td>NA</td><td>NA</td><td>NA</td><td>NA</td><td>NA</td><td>NA</td><td>NA</td><td>235</td></tr>\n",
              "</tbody>\n",
              "</table>\n"
            ],
            "text/markdown": "\nA data.frame: 5 × 13\n\n| <!--/--> | TIP_SUBDERE &lt;dbl&gt; | TOTAL_FUNCIONARIOS_SUMA &lt;dbl&gt; | P6.1 &lt;dbl&gt; | P6.2 &lt;dbl&gt; | P6.3 &lt;dbl&gt; | P7.1 &lt;dbl&gt; | P7.2 &lt;dbl&gt; | P7.3 &lt;dbl&gt; | P7.4 &lt;dbl&gt; | P7.5 &lt;dbl&gt; | P22.1 &lt;dbl&gt; | suma_pago_en_linea &lt;dbl&gt; | funcionarios_contrata_honorario &lt;dbl&gt; |\n|---|---|---|---|---|---|---|---|---|---|---|---|---|---|\n| 1 | 5 | 209 | 33 | 41 |   8 | 28 | 52 | 57 | 26 |  8 | 85 | NA |  49 |\n| 2 | 5 |  95 | 15 |  3 |  38 | 21 | 19 | NA | NA | NA | 46 | NA |  41 |\n| 3 | 6 |  NA | NA | NA |  NA | NA | NA | NA | NA | NA | NA |  0 |  NA |\n| 4 | 6 |  NA | NA | NA |  NA | NA | NA | NA | NA | NA | NA | NA |  NA |\n| 5 | 3 | 500 | 52 | 22 | 213 | NA | NA | NA | NA | NA | NA | NA | 235 |\n\n",
            "text/latex": "A data.frame: 5 × 13\n\\begin{tabular}{r|lllllllllllll}\n  & TIP\\_SUBDERE & TOTAL\\_FUNCIONARIOS\\_SUMA & P6.1 & P6.2 & P6.3 & P7.1 & P7.2 & P7.3 & P7.4 & P7.5 & P22.1 & suma\\_pago\\_en\\_linea & funcionarios\\_contrata\\_honorario\\\\\n  & <dbl> & <dbl> & <dbl> & <dbl> & <dbl> & <dbl> & <dbl> & <dbl> & <dbl> & <dbl> & <dbl> & <dbl> & <dbl>\\\\\n\\hline\n\t1 & 5 & 209 & 33 & 41 &   8 & 28 & 52 & 57 & 26 &  8 & 85 & NA &  49\\\\\n\t2 & 5 &  95 & 15 &  3 &  38 & 21 & 19 & NA & NA & NA & 46 & NA &  41\\\\\n\t3 & 6 &  NA & NA & NA &  NA & NA & NA & NA & NA & NA & NA &  0 &  NA\\\\\n\t4 & 6 &  NA & NA & NA &  NA & NA & NA & NA & NA & NA & NA & NA &  NA\\\\\n\t5 & 3 & 500 & 52 & 22 & 213 & NA & NA & NA & NA & NA & NA & NA & 235\\\\\n\\end{tabular}\n",
            "text/plain": [
              "  TIP_SUBDERE TOTAL_FUNCIONARIOS_SUMA P6.1 P6.2 P6.3 P7.1 P7.2 P7.3 P7.4 P7.5\n",
              "1 5           209                     33   41     8  28   52   57   26    8  \n",
              "2 5            95                     15    3    38  21   19   NA   NA   NA  \n",
              "3 6            NA                     NA   NA    NA  NA   NA   NA   NA   NA  \n",
              "4 6            NA                     NA   NA    NA  NA   NA   NA   NA   NA  \n",
              "5 3           500                     52   22   213  NA   NA   NA   NA   NA  \n",
              "  P22.1 suma_pago_en_linea funcionarios_contrata_honorario\n",
              "1 85    NA                  49                            \n",
              "2 46    NA                  41                            \n",
              "3 NA     0                  NA                            \n",
              "4 NA    NA                  NA                            \n",
              "5 NA    NA                 235                            "
            ]
          },
          "metadata": {}
        }
      ]
    },
    {
      "cell_type": "markdown",
      "source": [
        "Comentarios:  "
      ],
      "metadata": {
        "id": "Np5nWec5kj7Q"
      }
    },
    {
      "cell_type": "markdown",
      "source": [
        "## Desarrollo Item 1.b.\n",
        "Comunas grandes versus semiurbanas y rurales\n"
      ],
      "metadata": {
        "id": "MpjtWTsnl7Q7"
      }
    },
    {
      "cell_type": "code",
      "source": [
        "summary(data)"
      ],
      "metadata": {
        "id": "xs6KgKRJmLR-"
      },
      "execution_count": null,
      "outputs": []
    },
    {
      "cell_type": "markdown",
      "source": [
        "Comentarios:\n"
      ],
      "metadata": {
        "id": "8ddaMikImlBQ"
      }
    },
    {
      "cell_type": "markdown",
      "source": [
        "## Desarrollo Item 1.c.\n",
        "Comunas urbanas versus semiurbanas y rurales\n",
        "\n"
      ],
      "metadata": {
        "id": "hdPRBOm2H4M-"
      }
    },
    {
      "cell_type": "code",
      "source": [],
      "metadata": {
        "id": "JQruA2N-H4kV"
      },
      "execution_count": null,
      "outputs": []
    },
    {
      "cell_type": "markdown",
      "source": [
        "Comentarios:\n"
      ],
      "metadata": {
        "id": "0K7RH4S1ICy9"
      }
    },
    {
      "cell_type": "markdown",
      "source": [
        "##PREGUNTA 2"
      ],
      "metadata": {
        "id": "U4Ea5c1BnKyp"
      }
    },
    {
      "cell_type": "markdown",
      "source": [
        "## Desarrollo Item 2.a"
      ],
      "metadata": {
        "id": "1sDAdir4nP3W"
      }
    },
    {
      "cell_type": "code",
      "source": [
        "summary(data$Price)\n",
        "max(data$Price, na.rm= TRUE)\n",
        "which(data$Price==3399000)\n",
        "data[38737, ]"
      ],
      "metadata": {
        "id": "qy7zRvrbnPLG"
      },
      "execution_count": null,
      "outputs": []
    },
    {
      "cell_type": "markdown",
      "source": [
        "Comentarios:"
      ],
      "metadata": {
        "id": "k9HQPECYn0ND"
      }
    },
    {
      "cell_type": "markdown",
      "source": [
        "## Desarrollo Item 2.b."
      ],
      "metadata": {
        "id": "J-RgJVjLn8TP"
      }
    },
    {
      "cell_type": "code",
      "source": [],
      "metadata": {
        "id": "BHXxea3qucDE"
      },
      "execution_count": null,
      "outputs": []
    },
    {
      "cell_type": "markdown",
      "source": [
        "##PREGUNTA 3\n"
      ],
      "metadata": {
        "id": "2O11ISk_ucme"
      }
    },
    {
      "cell_type": "markdown",
      "source": [
        "## Desarrollo Item 3.a"
      ],
      "metadata": {
        "id": "UtwW2MWvueo2"
      }
    },
    {
      "cell_type": "code",
      "source": [
        "nuevodata <- sample_n(data, 1000)\n",
        "nuevodata=as.data.frame(nuevodata)\n",
        "boxplot(nuevodata$Mileage, main=\"\", col=\"purple\", ylab=\"Precio autos\")"
      ],
      "metadata": {
        "id": "opCNHtj7uf3W"
      },
      "execution_count": null,
      "outputs": []
    },
    {
      "cell_type": "markdown",
      "source": [
        "Comentarios:"
      ],
      "metadata": {
        "id": "lszXwYKzw-LI"
      }
    }
  ]
}